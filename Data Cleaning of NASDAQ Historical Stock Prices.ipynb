{
 "cells": [
  {
   "cell_type": "code",
   "execution_count": 1,
   "metadata": {},
   "outputs": [],
   "source": [
    "import pandas as pd\n",
    "import numpy as np\n",
    "from sklearn import preprocessing\n",
    "import matplotlib.pyplot as plt \n",
    "plt.rc(\"font\", size=14)\n",
    "from sklearn.linear_model import LinearRegression"
   ]
  },
  {
   "cell_type": "code",
   "execution_count": 2,
   "metadata": {},
   "outputs": [
    {
     "name": "stdout",
     "output_type": "stream",
     "text": [
      "(1031, 6)\n",
      "['Date', 'Close/Last', 'Volume', 'Open', 'High', 'Low']\n"
     ]
    },
    {
     "data": {
      "text/html": [
       "<div>\n",
       "<style scoped>\n",
       "    .dataframe tbody tr th:only-of-type {\n",
       "        vertical-align: middle;\n",
       "    }\n",
       "\n",
       "    .dataframe tbody tr th {\n",
       "        vertical-align: top;\n",
       "    }\n",
       "\n",
       "    .dataframe thead th {\n",
       "        text-align: right;\n",
       "    }\n",
       "</style>\n",
       "<table border=\"1\" class=\"dataframe\">\n",
       "  <thead>\n",
       "    <tr style=\"text-align: right;\">\n",
       "      <th></th>\n",
       "      <th>Date</th>\n",
       "      <th>Close/Last</th>\n",
       "      <th>Volume</th>\n",
       "      <th>Open</th>\n",
       "      <th>High</th>\n",
       "      <th>Low</th>\n",
       "    </tr>\n",
       "  </thead>\n",
       "  <tbody>\n",
       "    <tr>\n",
       "      <th>0</th>\n",
       "      <td>08/11/2020</td>\n",
       "      <td>$0.5093</td>\n",
       "      <td>649342</td>\n",
       "      <td>$0.5032</td>\n",
       "      <td>$0.52</td>\n",
       "      <td>$0.499</td>\n",
       "    </tr>\n",
       "    <tr>\n",
       "      <th>1</th>\n",
       "      <td>08/10/2020</td>\n",
       "      <td>$0.518</td>\n",
       "      <td>560362</td>\n",
       "      <td>$0.52</td>\n",
       "      <td>$0.52</td>\n",
       "      <td>$0.498</td>\n",
       "    </tr>\n",
       "    <tr>\n",
       "      <th>2</th>\n",
       "      <td>08/07/2020</td>\n",
       "      <td>$0.4982</td>\n",
       "      <td>356930</td>\n",
       "      <td>$0.5146</td>\n",
       "      <td>$0.5212</td>\n",
       "      <td>$0.4934</td>\n",
       "    </tr>\n",
       "    <tr>\n",
       "      <th>3</th>\n",
       "      <td>08/06/2020</td>\n",
       "      <td>$0.505</td>\n",
       "      <td>418359</td>\n",
       "      <td>$0.51</td>\n",
       "      <td>$0.51</td>\n",
       "      <td>$0.495</td>\n",
       "    </tr>\n",
       "    <tr>\n",
       "      <th>4</th>\n",
       "      <td>08/05/2020</td>\n",
       "      <td>$0.508</td>\n",
       "      <td>598244</td>\n",
       "      <td>$0.495</td>\n",
       "      <td>$0.5187</td>\n",
       "      <td>$0.4861</td>\n",
       "    </tr>\n",
       "  </tbody>\n",
       "</table>\n",
       "</div>"
      ],
      "text/plain": [
       "         Date Close/Last  Volume      Open      High       Low\n",
       "0  08/11/2020    $0.5093  649342   $0.5032     $0.52    $0.499\n",
       "1  08/10/2020     $0.518  560362     $0.52     $0.52    $0.498\n",
       "2  08/07/2020    $0.4982  356930   $0.5146   $0.5212   $0.4934\n",
       "3  08/06/2020     $0.505  418359     $0.51     $0.51    $0.495\n",
       "4  08/05/2020     $0.508  598244    $0.495   $0.5187   $0.4861"
      ]
     },
     "execution_count": 2,
     "metadata": {},
     "output_type": "execute_result"
    }
   ],
   "source": [
    "import pandas as pd\n",
    "data = pd.read_csv('Jacob2.csv')\n",
    "print(data.shape)\n",
    "print(list(data.columns))\n",
    "data.head()"
   ]
  },
  {
   "cell_type": "code",
   "execution_count": 3,
   "metadata": {},
   "outputs": [],
   "source": [
    "data['Date']=pd.to_datetime(data['Date'])"
   ]
  },
  {
   "cell_type": "code",
   "execution_count": 4,
   "metadata": {},
   "outputs": [],
   "source": [
    "data['Close/Last'] = data['Close/Last'].str.replace('$', '')\n",
    "data['Close/Last'] = pd.to_numeric(data['Close/Last'], errors='coerce')"
   ]
  },
  {
   "cell_type": "code",
   "execution_count": 5,
   "metadata": {},
   "outputs": [],
   "source": [
    "data['Open'] = data['Open'].str.replace('$', '')\n",
    "data['Open'] = pd.to_numeric(data['Open'], errors='coerce')"
   ]
  },
  {
   "cell_type": "code",
   "execution_count": 6,
   "metadata": {},
   "outputs": [],
   "source": [
    "data['High'] = data['High'].str.replace('$', '')\n",
    "data['High'] = pd.to_numeric(data['High'], errors='coerce')"
   ]
  },
  {
   "cell_type": "code",
   "execution_count": 7,
   "metadata": {},
   "outputs": [],
   "source": [
    "data['Low'] = data['Low'].str.replace('$', '')\n",
    "data['Low'] = pd.to_numeric(data['Low'], errors='coerce')"
   ]
  },
  {
   "cell_type": "code",
   "execution_count": 8,
   "metadata": {},
   "outputs": [
    {
     "data": {
      "text/html": [
       "<div>\n",
       "<style scoped>\n",
       "    .dataframe tbody tr th:only-of-type {\n",
       "        vertical-align: middle;\n",
       "    }\n",
       "\n",
       "    .dataframe tbody tr th {\n",
       "        vertical-align: top;\n",
       "    }\n",
       "\n",
       "    .dataframe thead th {\n",
       "        text-align: right;\n",
       "    }\n",
       "</style>\n",
       "<table border=\"1\" class=\"dataframe\">\n",
       "  <thead>\n",
       "    <tr style=\"text-align: right;\">\n",
       "      <th></th>\n",
       "      <th>Date</th>\n",
       "      <th>Close/Last</th>\n",
       "      <th>Volume</th>\n",
       "      <th>Open</th>\n",
       "      <th>High</th>\n",
       "      <th>Low</th>\n",
       "    </tr>\n",
       "  </thead>\n",
       "  <tbody>\n",
       "    <tr>\n",
       "      <th>0</th>\n",
       "      <td>2020-08-11</td>\n",
       "      <td>0.5093</td>\n",
       "      <td>649342</td>\n",
       "      <td>0.5032</td>\n",
       "      <td>0.5200</td>\n",
       "      <td>0.4990</td>\n",
       "    </tr>\n",
       "    <tr>\n",
       "      <th>1</th>\n",
       "      <td>2020-08-10</td>\n",
       "      <td>0.5180</td>\n",
       "      <td>560362</td>\n",
       "      <td>0.5200</td>\n",
       "      <td>0.5200</td>\n",
       "      <td>0.4980</td>\n",
       "    </tr>\n",
       "    <tr>\n",
       "      <th>2</th>\n",
       "      <td>2020-08-07</td>\n",
       "      <td>0.4982</td>\n",
       "      <td>356930</td>\n",
       "      <td>0.5146</td>\n",
       "      <td>0.5212</td>\n",
       "      <td>0.4934</td>\n",
       "    </tr>\n",
       "    <tr>\n",
       "      <th>3</th>\n",
       "      <td>2020-08-06</td>\n",
       "      <td>0.5050</td>\n",
       "      <td>418359</td>\n",
       "      <td>0.5100</td>\n",
       "      <td>0.5100</td>\n",
       "      <td>0.4950</td>\n",
       "    </tr>\n",
       "    <tr>\n",
       "      <th>4</th>\n",
       "      <td>2020-08-05</td>\n",
       "      <td>0.5080</td>\n",
       "      <td>598244</td>\n",
       "      <td>0.4950</td>\n",
       "      <td>0.5187</td>\n",
       "      <td>0.4861</td>\n",
       "    </tr>\n",
       "  </tbody>\n",
       "</table>\n",
       "</div>"
      ],
      "text/plain": [
       "        Date  Close/Last  Volume    Open    High     Low\n",
       "0 2020-08-11      0.5093  649342  0.5032  0.5200  0.4990\n",
       "1 2020-08-10      0.5180  560362  0.5200  0.5200  0.4980\n",
       "2 2020-08-07      0.4982  356930  0.5146  0.5212  0.4934\n",
       "3 2020-08-06      0.5050  418359  0.5100  0.5100  0.4950\n",
       "4 2020-08-05      0.5080  598244  0.4950  0.5187  0.4861"
      ]
     },
     "execution_count": 8,
     "metadata": {},
     "output_type": "execute_result"
    }
   ],
   "source": [
    "data.head()"
   ]
  },
  {
   "cell_type": "code",
   "execution_count": 9,
   "metadata": {},
   "outputs": [],
   "source": [
    "data.to_csv('Ronen2.csv', index=False, encoding='utf-8')"
   ]
  }
 ],
 "metadata": {
  "kernelspec": {
   "display_name": "Python 3",
   "language": "python",
   "name": "python3"
  },
  "language_info": {
   "codemirror_mode": {
    "name": "ipython",
    "version": 3
   },
   "file_extension": ".py",
   "mimetype": "text/x-python",
   "name": "python",
   "nbconvert_exporter": "python",
   "pygments_lexer": "ipython3",
   "version": "3.7.4"
  }
 },
 "nbformat": 4,
 "nbformat_minor": 4
}
